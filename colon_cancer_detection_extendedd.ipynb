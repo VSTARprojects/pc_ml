{
 "cells": [
  {
   "cell_type": "code",
   "execution_count": 16,
   "id": "790ff2dc",
   "metadata": {},
   "outputs": [],
   "source": [
    "#Importing necessary libraries\n",
    "\n",
    "import pandas as pd\n",
    "import numpy as np\n",
    "import matplotlib.pyplot as plt\n",
    "import os\n",
    "import PIL\n",
    "import tensorflow as tf\n",
    "from tensorflow import keras\n",
    "from tensorflow.keras import layers"
   ]
  },
  {
   "cell_type": "code",
   "execution_count": 17,
   "id": "c50c3fd5",
   "metadata": {},
   "outputs": [],
   "source": [
    "#Load the dataset\n",
    "\n",
    "data_dir = \"E:\\cancer\""
   ]
  },
  {
   "cell_type": "code",
   "execution_count": 18,
   "id": "d06d3f1b",
   "metadata": {},
   "outputs": [],
   "source": [
    "#Data augumentation using imagedatagenerator\n",
    "\n",
    "from tensorflow.keras.preprocessing.image import ImageDataGenerator\n",
    "data = ImageDataGenerator(validation_split = 0.2)"
   ]
  },
  {
   "cell_type": "code",
   "execution_count": 19,
   "id": "3ac734fc",
   "metadata": {},
   "outputs": [],
   "source": [
    "#Set images size and batch size\n",
    "\n",
    "BATCH_SIZE = 16\n",
    "\n",
    "X = Y = 224"
   ]
  },
  {
   "cell_type": "code",
   "execution_count": 20,
   "id": "5c493382",
   "metadata": {},
   "outputs": [
    {
     "name": "stdout",
     "output_type": "stream",
     "text": [
      "Found 8560 images belonging to 4 classes.\n"
     ]
    }
   ],
   "source": [
    "#Training datset\n",
    "\n",
    "train_ds = data.flow_from_directory(data_dir,\n",
    "                                   class_mode = \"categorical\",\n",
    "                                   target_size = (X,Y),\n",
    "                                   color_mode = \"rgb\",\n",
    "                                   batch_size = BATCH_SIZE,\n",
    "                                   shuffle = False,\n",
    "                                   subset = \"training\",\n",
    "                                   seed = 42)"
   ]
  },
  {
   "cell_type": "code",
   "execution_count": 21,
   "id": "9b6f35aa",
   "metadata": {},
   "outputs": [
    {
     "name": "stdout",
     "output_type": "stream",
     "text": [
      "Found 2140 images belonging to 4 classes.\n"
     ]
    }
   ],
   "source": [
    "#Validation datset\n",
    "\n",
    "validation_ds = data.flow_from_directory(data_dir,\n",
    "                                   class_mode = \"categorical\",\n",
    "                                   target_size = (X,Y),\n",
    "                                   color_mode = \"rgb\",\n",
    "                                   batch_size = BATCH_SIZE,\n",
    "                                   shuffle = False,\n",
    "                                   subset = \"validation\",\n",
    "                                   seed = 42)"
   ]
  },
  {
   "cell_type": "code",
   "execution_count": 22,
   "id": "a9cd824c",
   "metadata": {},
   "outputs": [],
   "source": [
    "#Import necessary modules for training the model\n",
    "\n",
    "from tensorflow.keras.applications.efficientnet import EfficientNetB7 as PretrainedModel, preprocess_input\n",
    "from tensorflow.keras.models import Model\n",
    "from tensorflow.keras.layers import GlobalAveragePooling2D, Flatten, Dense, Input"
   ]
  },
  {
   "cell_type": "code",
   "execution_count": 25,
   "id": "fdbcd674",
   "metadata": {},
   "outputs": [
    {
     "name": "stdout",
     "output_type": "stream",
     "text": [
      "Model: \"model_3\"\n",
      "_________________________________________________________________\n",
      " Layer (type)                Output Shape              Param #   \n",
      "=================================================================\n",
      " input_8 (InputLayer)        [(None, 224, 224, 3)]     0         \n",
      "                                                                 \n",
      " efficientnetb7 (Functional)  (None, 7, 7, 2560)       64097687  \n",
      "                                                                 \n",
      " global_average_pooling2d_3   (None, 2560)             0         \n",
      " (GlobalAveragePooling2D)                                        \n",
      "                                                                 \n",
      " flatten_3 (Flatten)         (None, 2560)              0         \n",
      "                                                                 \n",
      " dense_9 (Dense)             (None, 128)               327808    \n",
      "                                                                 \n",
      " dense_10 (Dense)            (None, 64)                8256      \n",
      "                                                                 \n",
      " dense_11 (Dense)            (None, 4)                 260       \n",
      "                                                                 \n",
      "=================================================================\n",
      "Total params: 64,434,011\n",
      "Trainable params: 336,324\n",
      "Non-trainable params: 64,097,687\n",
      "_________________________________________________________________\n"
     ]
    }
   ],
   "source": [
    "#training the base model\n",
    "\n",
    "base_model = PretrainedModel(input_shape = (X, Y,3),\n",
    "                     #Loading weights pre-trained on imagenet\n",
    "                     weights = 'imagenet',\n",
    "                     #Do not include the imagenet classifier at the top\n",
    "                     include_top = False)\n",
    "\n",
    "#Freezing the base model\n",
    "base_model.trainable = False\n",
    "\n",
    "#Create new model on top\n",
    "\n",
    "data_augmentation = tf.keras.Sequential([\n",
    "  layers.RandomFlip(\"horizontal_and_vertical\"),\n",
    "])\n",
    "\n",
    "# The base model contains batch-normalization layers. \n",
    "# we want to keep them in inference mode when we unfreeze the base model for fine tuning,\n",
    "# so we make sure that the base model is running in inference mode here\n",
    "#print(base_model.input)\n",
    "\n",
    "inputs = keras.Input(shape=(224, 224, 3))\n",
    "#inputs=data_augmentation(inputs)\n",
    "#print(inputs)\n",
    "\n",
    "x=base_model(inputs,training=False)\n",
    "\n",
    "x = GlobalAveragePooling2D()(x)\n",
    "x=Flatten()(x)\n",
    "\n",
    "x=Dense(128,activation='relu')(x)\n",
    "x=Dense(64,activation='relu')(x)\n",
    "y=Dense(4,activation='softmax')(x)\n",
    "\n",
    "model=Model(inputs,outputs=y)\n",
    "\n",
    "model.summary()"
   ]
  },
  {
   "cell_type": "code",
   "execution_count": 26,
   "id": "479a730c",
   "metadata": {},
   "outputs": [
    {
     "name": "stdout",
     "output_type": "stream",
     "text": [
      "535/535 [==============================] - 3835s 7s/step - loss: 0.1064 - categorical_accuracy: 0.9612 - val_loss: 0.0520 - val_categorical_accuracy: 0.9785\n"
     ]
    },
    {
     "data": {
      "text/plain": [
       "<keras.callbacks.History at 0x2aa37486c80>"
      ]
     },
     "execution_count": 26,
     "metadata": {},
     "output_type": "execute_result"
    }
   ],
   "source": [
    "#Train the top layer\n",
    "\n",
    "model.compile(\n",
    "    optimizer=keras.optimizers.Adam(),\n",
    "    loss=keras.losses.CategoricalCrossentropy(),\n",
    "    metrics=[keras.metrics.CategoricalAccuracy()],\n",
    ")\n",
    "\n",
    "model.fit(train_ds, epochs=1, validation_data=validation_ds)"
   ]
  },
  {
   "cell_type": "code",
   "execution_count": 27,
   "id": "3a64e867",
   "metadata": {},
   "outputs": [
    {
     "name": "stdout",
     "output_type": "stream",
     "text": [
      "Model: \"model_3\"\n",
      "_________________________________________________________________\n",
      " Layer (type)                Output Shape              Param #   \n",
      "=================================================================\n",
      " input_8 (InputLayer)        [(None, 224, 224, 3)]     0         \n",
      "                                                                 \n",
      " efficientnetb7 (Functional)  (None, 7, 7, 2560)       64097687  \n",
      "                                                                 \n",
      " global_average_pooling2d_3   (None, 2560)             0         \n",
      " (GlobalAveragePooling2D)                                        \n",
      "                                                                 \n",
      " flatten_3 (Flatten)         (None, 2560)              0         \n",
      "                                                                 \n",
      " dense_9 (Dense)             (None, 128)               327808    \n",
      "                                                                 \n",
      " dense_10 (Dense)            (None, 64)                8256      \n",
      "                                                                 \n",
      " dense_11 (Dense)            (None, 4)                 260       \n",
      "                                                                 \n",
      "=================================================================\n",
      "Total params: 64,434,011\n",
      "Trainable params: 336,324\n",
      "Non-trainable params: 64,097,687\n",
      "_________________________________________________________________\n"
     ]
    }
   ],
   "source": [
    "model.summary()"
   ]
  },
  {
   "cell_type": "code",
   "execution_count": 30,
   "id": "8c232e0b",
   "metadata": {},
   "outputs": [
    {
     "name": "stdout",
     "output_type": "stream",
     "text": [
      "Model: \"model_3\"\n",
      "_________________________________________________________________\n",
      " Layer (type)                Output Shape              Param #   \n",
      "=================================================================\n",
      " input_8 (InputLayer)        [(None, 224, 224, 3)]     0         \n",
      "                                                                 \n",
      " efficientnetb7 (Functional)  (None, 7, 7, 2560)       64097687  \n",
      "                                                                 \n",
      " global_average_pooling2d_3   (None, 2560)             0         \n",
      " (GlobalAveragePooling2D)                                        \n",
      "                                                                 \n",
      " flatten_3 (Flatten)         (None, 2560)              0         \n",
      "                                                                 \n",
      " dense_9 (Dense)             (None, 128)               327808    \n",
      "                                                                 \n",
      " dense_10 (Dense)            (None, 64)                8256      \n",
      "                                                                 \n",
      " dense_11 (Dense)            (None, 4)                 260       \n",
      "                                                                 \n",
      "=================================================================\n",
      "Total params: 64,434,011\n",
      "Trainable params: 647,044\n",
      "Non-trainable params: 63,786,967\n",
      "_________________________________________________________________\n"
     ]
    }
   ],
   "source": [
    "#Fine-Tuning the model\n",
    "\n",
    "# Unfreeze the model.\n",
    "# Note that it keeps running in inference mode since we passed training = False when calling it.\n",
    "# This means that the batch-normalization layers will not update their batch statistics.\n",
    "# This prevents the batch-normalization layers from undoing all the training that we have done so far\n",
    "\n",
    "base_model.trainable = True\n",
    "for layer in base_model.layers:\n",
    "        layer.trainable = False\n",
    "        if isinstance(layer, keras.layers.BatchNormalization):\n",
    "            layer.trainable = True\n",
    "            layer.momentum = 0.99\n",
    "model.summary()\n",
    "\n",
    "\n"
   ]
  },
  {
   "cell_type": "code",
   "execution_count": 1,
   "id": "303067c8",
   "metadata": {},
   "outputs": [
    {
     "ename": "NameError",
     "evalue": "name 'model' is not defined",
     "output_type": "error",
     "traceback": [
      "\u001b[1;31m---------------------------------------------------------------------------\u001b[0m",
      "\u001b[1;31mNameError\u001b[0m                                 Traceback (most recent call last)",
      "Cell \u001b[1;32mIn[1], line 1\u001b[0m\n\u001b[1;32m----> 1\u001b[0m \u001b[43mmodel\u001b[49m\u001b[38;5;241m.\u001b[39mcompile(\n\u001b[0;32m      2\u001b[0m     optimizer\u001b[38;5;241m=\u001b[39mkeras\u001b[38;5;241m.\u001b[39moptimizers\u001b[38;5;241m.\u001b[39mAdam(\u001b[38;5;241m1e-5\u001b[39m),\n\u001b[0;32m      3\u001b[0m     loss\u001b[38;5;241m=\u001b[39mkeras\u001b[38;5;241m.\u001b[39mlosses\u001b[38;5;241m.\u001b[39mCategoricalCrossentropy(),\n\u001b[0;32m      4\u001b[0m     metrics\u001b[38;5;241m=\u001b[39m[keras\u001b[38;5;241m.\u001b[39mmetrics\u001b[38;5;241m.\u001b[39mCategoricalAccuracy()],\n\u001b[0;32m      5\u001b[0m )\n\u001b[0;32m      7\u001b[0m model\u001b[38;5;241m.\u001b[39mfit(train_ds, epochs\u001b[38;5;241m=\u001b[39m\u001b[38;5;241m1\u001b[39m, validation_data\u001b[38;5;241m=\u001b[39mvalidation_ds)\n",
      "\u001b[1;31mNameError\u001b[0m: name 'model' is not defined"
     ]
    }
   ],
   "source": [
    "model.compile(\n",
    "    optimizer=keras.optimizers.Adam(1e-5),\n",
    "    loss=keras.losses.CategoricalCrossentropy(),\n",
    "    metrics=[keras.metrics.CategoricalAccuracy()],\n",
    ")\n",
    "\n",
    "model.fit(train_ds, epochs=1, validation_data=validation_ds)\n",
    "\n"
   ]
  },
  {
   "cell_type": "code",
   "execution_count": null,
   "id": "7f38c293",
   "metadata": {},
   "outputs": [],
   "source": []
  }
 ],
 "metadata": {
  "kernelspec": {
   "display_name": "Python 3 (ipykernel)",
   "language": "python",
   "name": "python3"
  },
  "language_info": {
   "codemirror_mode": {
    "name": "ipython",
    "version": 3
   },
   "file_extension": ".py",
   "mimetype": "text/x-python",
   "name": "python",
   "nbconvert_exporter": "python",
   "pygments_lexer": "ipython3",
   "version": "3.10.9"
  }
 },
 "nbformat": 4,
 "nbformat_minor": 5
}
